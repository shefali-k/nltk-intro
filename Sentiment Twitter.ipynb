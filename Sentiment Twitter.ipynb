{
 "cells": [
  {
   "cell_type": "code",
   "execution_count": 11,
   "metadata": {
    "collapsed": true
   },
   "outputs": [],
   "source": [
    "from nltk.corpus import twitter_samples\n",
    "from nltk.tokenize import word_tokenize\n",
    "from nltk.corpus import stopwords\n",
    "import nltk.classify.util\n",
    "from nltk.classify import NaiveBayesClassifier"
   ]
  },
  {
   "cell_type": "code",
   "execution_count": 2,
   "metadata": {
    "collapsed": false
   },
   "outputs": [
    {
     "data": {
      "text/plain": [
       "['negative_tweets.json', 'positive_tweets.json', 'tweets.20150430-223406.json']"
      ]
     },
     "execution_count": 2,
     "metadata": {},
     "output_type": "execute_result"
    }
   ],
   "source": [
    "twitter_samples.fileids()"
   ]
  },
  {
   "cell_type": "code",
   "execution_count": 3,
   "metadata": {
    "collapsed": false
   },
   "outputs": [
    {
     "name": "stdout",
     "output_type": "stream",
     "text": [
      "hopeless for tmr :(\n",
      "Everything in the kids section of IKEA is so cute. Shame I'm nearly 19 in 2 months :(\n",
      "@Hegelbon That heart sliding into the waste basket. :(\n",
      "“@ketchBurning: I hate Japanese call him \"bani\" :( :(”\n",
      "\n",
      "Me too\n",
      "Dang starting next week I have \"work\" :(\n"
     ]
    }
   ],
   "source": [
    "strings = twitter_samples.strings('negative_tweets.json')\n",
    "for string in strings[:5]:\n",
    "    print(string)"
   ]
  },
  {
   "cell_type": "code",
   "execution_count": 6,
   "metadata": {
    "collapsed": false
   },
   "outputs": [
    {
     "data": {
      "text/plain": [
       "{'brown': True, 'jumps': True, 'quick': True}"
      ]
     },
     "execution_count": 6,
     "metadata": {},
     "output_type": "execute_result"
    }
   ],
   "source": [
    "def create_word_features(words):\n",
    "        # Write the code here\n",
    "\n",
    "\n",
    "create_word_features(['the', 'quick', 'brown', 'the', 'jumps' , 'quick'])"
   ]
  },
  {
   "cell_type": "code",
   "execution_count": 7,
   "metadata": {
    "collapsed": false
   },
   "outputs": [
    {
     "name": "stdout",
     "output_type": "stream",
     "text": [
      "({'(': True, 'hopeless': True, 'tmr': True, ':': True}, 'negative')\n",
      "5000\n"
     ]
    }
   ],
   "source": [
    "neg_reviews = []\n",
    "\n",
    "# Write the code to extract the negative reviews here\n",
    "    \n",
    "print(neg_reviews[0])\n",
    "print(len(neg_reviews))"
   ]
  },
  {
   "cell_type": "code",
   "execution_count": 8,
   "metadata": {
    "collapsed": false
   },
   "outputs": [
    {
     "name": "stdout",
     "output_type": "stream",
     "text": [
      "({'top': True, 'PKuchly57': True, ':': True, '#': True, 'engaged': True, 'week': True, ')': True, 'FollowFriday': True, '@': True, 'France_Inte': True, 'Milipol_Paris': True, 'community': True, 'members': True}, 'positive')\n",
      "5000\n"
     ]
    }
   ],
   "source": [
    "pos_reviews = []\n",
    "\n",
    "# Write the code to extract the positive reviews here\n",
    "    \n",
    "print(pos_reviews[0])\n",
    "print(len(pos_reviews))"
   ]
  },
  {
   "cell_type": "code",
   "execution_count": 9,
   "metadata": {
    "collapsed": false
   },
   "outputs": [
    {
     "name": "stdout",
     "output_type": "stream",
     "text": [
      "8000 2000\n"
     ]
    }
   ],
   "source": [
    "# Create the training and test set\n",
    "\n",
    "print(len(train_set), len(test_set))"
   ]
  },
  {
   "cell_type": "code",
   "execution_count": 12,
   "metadata": {
    "collapsed": false
   },
   "outputs": [
    {
     "name": "stdout",
     "output_type": "stream",
     "text": [
      "97.39999999999999\n"
     ]
    }
   ],
   "source": [
    "# Create a Naive bayes classifier\n",
    "# Find the accuracy"
   ]
  },
  {
   "cell_type": "code",
   "execution_count": 17,
   "metadata": {
    "collapsed": false
   },
   "outputs": [
    {
     "name": "stdout",
     "output_type": "stream",
     "text": [
      "@DanielOConnel18 you could say he will have egg on his face :-)\n",
      "@DanielOConnel18 you could say he will have egg on his face -)\n",
      "@DanielOConnel18 you could say he will have egg on his face -\n"
     ]
    }
   ],
   "source": [
    "print(string)\n",
    "print(string.replace(\":\", \"\"))\n",
    "print(string.replace(\":\", \"\").replace(\")\", \"\").replace(\"(\", \"\"))"
   ]
  },
  {
   "cell_type": "code",
   "execution_count": 18,
   "metadata": {
    "collapsed": false
   },
   "outputs": [
    {
     "name": "stdout",
     "output_type": "stream",
     "text": [
      "({'hopeless': True, 'tmr': True}, 'negative')\n",
      "5000\n"
     ]
    }
   ],
   "source": [
    "neg_reviews = []\n",
    "\n",
    "# Repeat the above, this time replacing all smileys, like in example above\n",
    "\n",
    "print(neg_reviews[0])\n",
    "print(len(neg_reviews))"
   ]
  },
  {
   "cell_type": "code",
   "execution_count": 19,
   "metadata": {
    "collapsed": false
   },
   "outputs": [
    {
     "name": "stdout",
     "output_type": "stream",
     "text": [
      "({'top': True, 'FollowFriday': True, '@': True, 'community': True, 'France_Inte': True, '#': True, 'Milipol_Paris': True, 'engaged': True, 'week': True, 'PKuchly57': True, 'members': True}, 'positive')\n",
      "5000\n"
     ]
    }
   ],
   "source": [
    "pos_reviews = []\n",
    "\n",
    "# Repeat the above, this time replacing all smileys, like in example above\n",
    "    \n",
    "print(pos_reviews[0])\n",
    "print(len(pos_reviews))"
   ]
  },
  {
   "cell_type": "code",
   "execution_count": 20,
   "metadata": {
    "collapsed": false
   },
   "outputs": [
    {
     "name": "stdout",
     "output_type": "stream",
     "text": [
      "75.8\n"
     ]
    }
   ],
   "source": [
    "# Create train and test data again\n",
    "\n",
    "# Create Classifier again\n",
    "\n",
    "# Find the accuracy again\n",
    "print(accuracy2 * 100)"
   ]
  },
  {
   "cell_type": "code",
   "execution_count": null,
   "metadata": {
    "collapsed": true
   },
   "outputs": [],
   "source": []
  }
 ],
 "metadata": {
  "kernelspec": {
   "display_name": "Python 3",
   "language": "python",
   "name": "python3"
  },
  "language_info": {
   "codemirror_mode": {
    "name": "ipython",
    "version": 3
   },
   "file_extension": ".py",
   "mimetype": "text/x-python",
   "name": "python",
   "nbconvert_exporter": "python",
   "pygments_lexer": "ipython3",
   "version": "3.4.3"
  }
 },
 "nbformat": 4,
 "nbformat_minor": 0
}
